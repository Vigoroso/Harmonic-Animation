{
 "cells": [
  {
   "cell_type": "code",
   "execution_count": 1,
   "id": "8a2d6463",
   "metadata": {},
   "outputs": [
    {
     "name": "stdout",
     "output_type": "stream",
     "text": [
      "Requirement already satisfied: tetgen in d:\\anaconda\\lib\\site-packages (0.6.0)\n",
      "Requirement already satisfied: numpy>1.16.0 in d:\\anaconda\\lib\\site-packages (from tetgen) (1.20.1)\n",
      "Requirement already satisfied: pyvista>=0.31.0 in d:\\anaconda\\lib\\site-packages (from tetgen) (0.32.1)\n",
      "Requirement already satisfied: imageio in d:\\anaconda\\lib\\site-packages (from pyvista>=0.31.0->tetgen) (2.9.0)\n",
      "Requirement already satisfied: meshio<5.0,>=4.0.3 in d:\\anaconda\\lib\\site-packages (from pyvista>=0.31.0->tetgen) (4.4.6)\n",
      "Requirement already satisfied: appdirs in d:\\anaconda\\lib\\site-packages (from pyvista>=0.31.0->tetgen) (1.4.4)\n",
      "Requirement already satisfied: scooby>=0.5.1 in d:\\anaconda\\lib\\site-packages (from pyvista>=0.31.0->tetgen) (0.5.9)\n",
      "Requirement already satisfied: vtk in d:\\anaconda\\lib\\site-packages (from pyvista>=0.31.0->tetgen) (9.1.0)\n",
      "Requirement already satisfied: pillow in d:\\anaconda\\lib\\site-packages (from pyvista>=0.31.0->tetgen) (8.2.0)\n",
      "Requirement already satisfied: typing-extensions in d:\\anaconda\\lib\\site-packages (from pyvista>=0.31.0->tetgen) (3.7.4.3)\n",
      "Requirement already satisfied: importlib-metadata in d:\\anaconda\\lib\\site-packages (from meshio<5.0,>=4.0.3->pyvista>=0.31.0->tetgen) (3.10.0)\n",
      "Requirement already satisfied: zipp>=0.5 in d:\\anaconda\\lib\\site-packages (from importlib-metadata->meshio<5.0,>=4.0.3->pyvista>=0.31.0->tetgen) (3.4.1)\n",
      "Requirement already satisfied: wslink>=1.0.4 in d:\\anaconda\\lib\\site-packages (from vtk->pyvista>=0.31.0->tetgen) (1.1.1)\n",
      "Requirement already satisfied: matplotlib>=2.0.0 in d:\\anaconda\\lib\\site-packages (from vtk->pyvista>=0.31.0->tetgen) (3.3.4)\n",
      "Requirement already satisfied: python-dateutil>=2.1 in d:\\anaconda\\lib\\site-packages (from matplotlib>=2.0.0->vtk->pyvista>=0.31.0->tetgen) (2.8.1)\n",
      "Requirement already satisfied: kiwisolver>=1.0.1 in d:\\anaconda\\lib\\site-packages (from matplotlib>=2.0.0->vtk->pyvista>=0.31.0->tetgen) (1.3.1)\n",
      "Requirement already satisfied: cycler>=0.10 in d:\\anaconda\\lib\\site-packages (from matplotlib>=2.0.0->vtk->pyvista>=0.31.0->tetgen) (0.10.0)\n",
      "Requirement already satisfied: pyparsing!=2.0.4,!=2.1.2,!=2.1.6,>=2.0.3 in d:\\anaconda\\lib\\site-packages (from matplotlib>=2.0.0->vtk->pyvista>=0.31.0->tetgen) (2.4.7)\n",
      "Requirement already satisfied: six in d:\\anaconda\\lib\\site-packages (from cycler>=0.10->matplotlib>=2.0.0->vtk->pyvista>=0.31.0->tetgen) (1.15.0)\n",
      "Requirement already satisfied: aiohttp in d:\\anaconda\\lib\\site-packages (from wslink>=1.0.4->vtk->pyvista>=0.31.0->tetgen) (3.8.1)\n",
      "Requirement already satisfied: charset-normalizer<3.0,>=2.0 in d:\\anaconda\\lib\\site-packages (from aiohttp->wslink>=1.0.4->vtk->pyvista>=0.31.0->tetgen) (2.0.8)\n",
      "Requirement already satisfied: frozenlist>=1.1.1 in d:\\anaconda\\lib\\site-packages (from aiohttp->wslink>=1.0.4->vtk->pyvista>=0.31.0->tetgen) (1.2.0)\n",
      "Requirement already satisfied: async-timeout<5.0,>=4.0.0a3 in d:\\anaconda\\lib\\site-packages (from aiohttp->wslink>=1.0.4->vtk->pyvista>=0.31.0->tetgen) (4.0.1)\n",
      "Requirement already satisfied: attrs>=17.3.0 in d:\\anaconda\\lib\\site-packages (from aiohttp->wslink>=1.0.4->vtk->pyvista>=0.31.0->tetgen) (20.3.0)\n",
      "Requirement already satisfied: multidict<7.0,>=4.5 in d:\\anaconda\\lib\\site-packages (from aiohttp->wslink>=1.0.4->vtk->pyvista>=0.31.0->tetgen) (5.2.0)\n",
      "Requirement already satisfied: asynctest==0.13.0 in d:\\anaconda\\lib\\site-packages (from aiohttp->wslink>=1.0.4->vtk->pyvista>=0.31.0->tetgen) (0.13.0)\n",
      "Requirement already satisfied: aiosignal>=1.1.2 in d:\\anaconda\\lib\\site-packages (from aiohttp->wslink>=1.0.4->vtk->pyvista>=0.31.0->tetgen) (1.2.0)\n",
      "Requirement already satisfied: yarl<2.0,>=1.0 in d:\\anaconda\\lib\\site-packages (from aiohttp->wslink>=1.0.4->vtk->pyvista>=0.31.0->tetgen) (1.7.2)\n",
      "Requirement already satisfied: idna>=2.0 in d:\\anaconda\\lib\\site-packages (from yarl<2.0,>=1.0->aiohttp->wslink>=1.0.4->vtk->pyvista>=0.31.0->tetgen) (2.10)\n"
     ]
    }
   ],
   "source": [
    "!pip install tetgen\n",
    "import igl\n",
    "import numpy as np\n",
    "import meshplot as mp\n",
    "import scipy.sparse as sp\n",
    "import scipy\n",
    "import scipy.spatial\n",
    "import tetgen"
   ]
  },
  {
   "cell_type": "code",
   "execution_count": 2,
   "id": "323e6d1b",
   "metadata": {},
   "outputs": [
    {
     "data": {
      "application/vnd.jupyter.widget-view+json": {
       "model_id": "5e8bdcc640a54f18b0abb33975db93db",
       "version_major": 2,
       "version_minor": 0
      },
      "text/plain": [
       "Renderer(camera=PerspectiveCamera(children=(DirectionalLight(color='white', intensity=0.6, position=(4.8249053…"
      ]
     },
     "metadata": {},
     "output_type": "display_data"
    },
    {
     "data": {
      "application/vnd.jupyter.widget-view+json": {
       "model_id": "d8022b5b3c7b4826af6ffb69d77de8b3",
       "version_major": 2,
       "version_minor": 0
      },
      "text/plain": [
       "Renderer(camera=PerspectiveCamera(children=(DirectionalLight(color='white', intensity=0.6, position=(5.7979431…"
      ]
     },
     "metadata": {},
     "output_type": "display_data"
    }
   ],
   "source": [
    "v, f = igl.read_triangle_mesh(\"data/vol.obj\")\n",
    "bbv, bbf = igl.read_triangle_mesh(\"data/src.obj\")\n",
    "bbVNew, bbFNew = igl.read_triangle_mesh(\"data/trg.obj\")\n",
    "\n",
    "#bbvN = igl.per_vertex_normals(bbv, bbf)\n",
    "#bbv += 5 * bbvN\n",
    "\n",
    "#bbvN = igl.per_vertex_normals(bbv, bbf)\n",
    "#bbv += 5 * bbvN\n",
    "\n",
    "p = mp.plot(v, f, shading={\"wireframe\": True})\n",
    "p.add_edges(bbv, bbf, shading={\"line_color\": \"red\"});\n",
    "#p.add_points(bbv, shading={\"point_color\": \"red\"})\n",
    "p.add_edges(bbVNew, bbFNew, shading={\"line_color\": \"green\"});\n",
    "#p.add_points(bbVNew, shading={\"point_color\": \"green\"})\n",
    "\n",
    "p = mp.plot(bbv, bbf, shading={\"wireframe\": True})"
   ]
  },
  {
   "cell_type": "code",
   "execution_count": 3,
   "id": "6b493a2e",
   "metadata": {},
   "outputs": [
    {
     "data": {
      "application/vnd.jupyter.widget-view+json": {
       "model_id": "7e1524c8a15c40ad8942c1cb5d9aa4bf",
       "version_major": 2,
       "version_minor": 0
      },
      "text/plain": [
       "Renderer(camera=PerspectiveCamera(children=(DirectionalLight(color='white', intensity=0.6, position=(5.7979431…"
      ]
     },
     "metadata": {},
     "output_type": "display_data"
    },
    {
     "name": "stderr",
     "output_type": "stream",
     "text": [
      "D:\\anaconda\\lib\\site-packages\\scipy\\sparse\\_index.py:125: SparseEfficiencyWarning: Changing the sparsity structure of a csc_matrix is expensive. lil_matrix is more efficient.\n",
      "  self._set_arrayXarray(i, j, x)\n"
     ]
    }
   ],
   "source": [
    "newVs = np.zeros_like(v)\n",
    "\n",
    "gi = np.zeros((bbv.shape[0], v.shape[0]))\n",
    "\n",
    "spaceV = np.concatenate((v, bbv), axis = 0)\n",
    "spaceF = bbf + len(v)\n",
    "tetGen = tetgen.TetGen(spaceV, spaceF)\n",
    "nodes, elems = tetGen.tetrahedralize(quality = False)\n",
    "b = igl.boundary_facets(elems)\n",
    "p = mp.plot(nodes, elems, shading={\"wireframe\": True})\n",
    "\n",
    "laplace = igl.cotmatrix(nodes, elems)\n",
    "for x in range(len(v), len(v) + len(bbv)):\n",
    "    laplace[x, :] = 0\n",
    "    laplace[x, x] = 1\n",
    "\n",
    "#solve laplace for each cage vertex giving the weights for each point w.r.t the cage vertex\n",
    "for x in range(len(bbv)):\n",
    "    # to solve for a cade vertex\n",
    "    soln = np.zeros(spaceV.shape[0])\n",
    "    soln[len(v) + x] = 1\n",
    "    wi = sp.linalg.spsolve(laplace, soln)\n",
    "    gi[x] = wi[:len(v)]\n",
    "\n",
    "newVs = np.zeros_like(v)\n",
    "#compute each new point p'\n",
    "for x in range(len(v)):\n",
    "    #iterate over each gi(p) for each Ci'\n",
    "    for y in range(len(bbv)):\n",
    "        newVs[x] += gi[y][x] * bbVNew[y]"
   ]
  },
  {
   "cell_type": "code",
   "execution_count": 4,
   "id": "58317202",
   "metadata": {},
   "outputs": [
    {
     "data": {
      "application/vnd.jupyter.widget-view+json": {
       "model_id": "26d27b569ed74e84800b22e8089f745f",
       "version_major": 2,
       "version_minor": 0
      },
      "text/plain": [
       "Renderer(camera=PerspectiveCamera(children=(DirectionalLight(color='white', intensity=0.6, position=(-11.19636…"
      ]
     },
     "metadata": {},
     "output_type": "display_data"
    }
   ],
   "source": [
    "p = mp.plot(newVs, f, shading={\"wireframe\": True})\n",
    "p.add_edges(bbv, bbf, shading={\"line_color\": \"red\"});\n",
    "#p.add_points(bbv, shading={\"point_color\": \"red\"})\n",
    "p.add_edges(bbVNew, bbFNew, shading={\"line_color\": \"green\"});\n",
    "#p.add_points(bbVNew, shading={\"point_color\": \"green\"})"
   ]
  },
  {
   "cell_type": "code",
   "execution_count": null,
   "id": "aa418bdc-6248-4cdb-9ab4-36a2be7909ea",
   "metadata": {},
   "outputs": [],
   "source": []
  }
 ],
 "metadata": {
  "kernelspec": {
   "display_name": "Python 3",
   "language": "python",
   "name": "python3"
  },
  "language_info": {
   "codemirror_mode": {
    "name": "ipython",
    "version": 3
   },
   "file_extension": ".py",
   "mimetype": "text/x-python",
   "name": "python",
   "nbconvert_exporter": "python",
   "pygments_lexer": "ipython3",
   "version": "3.7.10"
  }
 },
 "nbformat": 4,
 "nbformat_minor": 5
}
